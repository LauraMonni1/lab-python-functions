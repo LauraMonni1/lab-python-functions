{
 "cells": [
  {
   "cell_type": "markdown",
   "id": "25d7736c-ba17-4aff-b6bb-66eba20fbf4e",
   "metadata": {},
   "source": [
    "# Lab | Functions"
   ]
  },
  {
   "cell_type": "markdown",
   "id": "0c581062-8967-4d93-b06e-62833222f930",
   "metadata": {
    "tags": []
   },
   "source": [
    "## Exercise: Managing Customer Orders with Functions\n",
    "\n",
    "In the previous exercise, you improved the code for managing customer orders by using loops and flow control. Now, let's take it a step further and refactor the code by introducing functions.\n",
    "\n",
    "Follow the steps below to complete the exercise:\n",
    "\n",
    "1. Define a function named `initialize_inventory` that takes `products` as a parameter. Inside the function, implement the code for initializing the inventory dictionary using a loop and user input.\n",
    "\n",
    "2. Define a function named `get_customer_orders` that takes no parameters. Inside the function, implement the code for prompting the user to enter the product names using a loop. The function should return the `customer_orders` set.\n",
    "\n",
    "3. Define a function named `update_inventory` that takes `customer_orders` and `inventory` as parameters. Inside the function, implement the code for updating the inventory dictionary based on the customer orders.\n",
    "\n",
    "4. Define a function named `calculate_order_statistics` that takes `customer_orders` and `products` as parameters. Inside the function, implement the code for calculating the order statistics (total products ordered, and percentage of unique products ordered). The function should return these values.\n",
    "\n",
    "5. Define a function named `print_order_statistics` that takes `order_statistics` as a parameter. Inside the function, implement the code for printing the order statistics.\n",
    "\n",
    "6. Define a function named `print_updated_inventory` that takes `inventory` as a parameter. Inside the function, implement the code for printing the updated inventory.\n",
    "\n",
    "7. Call the functions in the appropriate sequence to execute the program and manage customer orders.\n",
    "\n",
    "Hints for functions:\n",
    "\n",
    "- Consider the input parameters required for each function and their return values.\n",
    "- Utilize function parameters and return values to transfer data between functions.\n",
    "- Test your functions individually to ensure they work correctly.\n",
    "\n",
    "\n"
   ]
  },
  {
   "cell_type": "code",
   "execution_count": 1,
   "id": "0bdd404d",
   "metadata": {},
   "outputs": [],
   "source": [
    "def initialize_inventory (products:list):\n",
    "    \n",
    "    \"\"\"the function initializes the inventory and can handle typing errors from the user.\n",
    "    The function returns the dictionary 'inventory' and prints the products and\n",
    "    relative quantities in separate lines\"\"\"\n",
    "    \n",
    "    inventory = {}  # create an empty dictionary called inventory\n",
    "    for product in products:  # loop to add the number of products and create the inventory dictionary\n",
    "        while True:           # while loop to handle ValueErrors while digiting the number of products\n",
    "            user_input = input(f\"How many {product}s are there? \")\n",
    "            try:\n",
    "                inventory[product] = int(user_input)\n",
    "                break\n",
    "\n",
    "            except ValueError: \n",
    "                print(\"Please enter a valid number\")           \n",
    "    \n",
    "    print(\"The inventory contains: \")\n",
    "    for product, quantity in inventory.items(): # loop to print the dictionary keys and values in separate lines so the user knows how many products are there \n",
    "        print(f\"{product}s: {quantity}\")\n",
    "    return inventory "
   ]
  },
  {
   "cell_type": "code",
   "execution_count": 17,
   "id": "ab7b44dc",
   "metadata": {},
   "outputs": [],
   "source": [
    "def get_customer_orders():\n",
    "    \n",
    "    \"\"\"the function prompts the user to enter the product names the customer wants to order. \n",
    "    Then it asks whether the customer wants to continue the order (Yes/No) and handles typing errors.\n",
    "    The customer orders are then stored in a set called 'customer_orders' that is finally returned by the function.\n",
    "    \"\"\"\n",
    "    customer_orders=set()\n",
    "        \n",
    "    continue_order = True  # Start of the while loop that allows the user to add ordered products until needed\n",
    "    while continue_order:  \n",
    "        customer_input = input(\"Enter a product the customer wants to order: \")\n",
    "        customer_orders.add(customer_input)\n",
    "        print(f\"{customer_input} was added to the order.\")\n",
    "                \n",
    "        continue_input = input(\"Do you want to continue ordering? [Yes/No] \")\n",
    "                \n",
    "        if continue_input.lower() == \"yes\":\n",
    "            continue_order = True\n",
    "        elif continue_input.lower() == \"no\":\n",
    "            continue_order = False\n",
    "            break\n",
    "        else:\n",
    "            print(\"Invalid. Please, write 'yes' if you would like to continue ordering, or 'no' if want to finish.\") \n",
    "            continue_input = input(\"Do you want to continue ordering? [Yes/No]\")\n",
    "\n",
    "                    \n",
    "    return customer_orders"
   ]
  },
  {
   "cell_type": "code",
   "execution_count": 18,
   "id": "4087a542",
   "metadata": {},
   "outputs": [],
   "source": [
    "def update_inventory(customer_orders: set, inventory: dict)->dict:\n",
    "    \n",
    "    \"\"\"the function updates the dictionary inventory by creating a new dictionary called 'updated_inventory'. \n",
    "    If the product is present in the inventory, the inventory is updated by decrementing the correspondent product that \n",
    "    the customer has ordered. \n",
    "    If the product quantity in the inventory is 0, a message will be displayed saying that the product is out of stock.\n",
    "    If the product does not exist in the inventory, a message will be displayed saying that the product is not present.\n",
    "    The function returns the updated inventory dictionary.\n",
    "    \"\"\"\n",
    "    \n",
    "    updated_inventory = inventory.copy()\n",
    "    \n",
    "    for product in customer_orders:\n",
    "       \n",
    "        if product in updated_inventory and updated_inventory[product] > 0:\n",
    "            updated_inventory[product]-= 1\n",
    "        \n",
    "    return updated_inventory"
   ]
  },
  {
   "cell_type": "code",
   "execution_count": 19,
   "id": "6b6b58e3",
   "metadata": {},
   "outputs": [],
   "source": [
    "def calculate_order_statistics(customer_orders:set, products:list):\n",
    "    \n",
    "    \"\"\"This function calculates the statistics of the order \n",
    "    returning a tuple containing the total number of products ordered and the \n",
    "    percentange of the ordered product in the inventory\"\"\"\n",
    "    \n",
    "    products = list(inventory.values())\n",
    "    \n",
    "    total_order = len(customer_orders)\n",
    "    total_inventory = sum(products)\n",
    "    percentage_order = ((total_order/total_inventory)*100)  # % of ordered products in the inventory\n",
    "    order_status = (total_order, percentage_order) # tuple storing the statistics of ordered products\n",
    "    \n",
    "    #print(order_status)\n",
    "    \n",
    "    return order_status  "
   ]
  },
  {
   "cell_type": "code",
   "execution_count": 20,
   "id": "793e0b03",
   "metadata": {},
   "outputs": [],
   "source": [
    "def print_order_statistics(order_status):\n",
    "    \n",
    "    \"\"\"The function allows to print the order_status tuple with the statistics of the order\"\"\"\n",
    "    \n",
    "    total = order_status[0]\n",
    "    percentage = order_status[1]\n",
    "    print(f\"\"\"Order Statistics: \n",
    "    Total Products Ordered:{total}\n",
    "    Percentage of Products Ordered: {percentage: .2f}%\"\"\")\n",
    "    return"
   ]
  },
  {
   "cell_type": "code",
   "execution_count": 21,
   "id": "43c4797d",
   "metadata": {},
   "outputs": [],
   "source": [
    "def print_updated_inventory(updated_inventory:dict):\n",
    "    \n",
    "    \"\"\"The function allows to print the updated inventory\"\"\"\n",
    "        \n",
    "    print(\"The updated inventory contains:\")\n",
    "    for product, quantity in updated_inventory.items(): # loop to print the dictionary keys and values in separate lines so the user knows how many products are there \n",
    "        print(f\"{product}s: {quantity}\")\n",
    "    \n",
    "    return"
   ]
  },
  {
   "cell_type": "code",
   "execution_count": 22,
   "id": "b159702c",
   "metadata": {},
   "outputs": [
    {
     "name": "stdout",
     "output_type": "stream",
     "text": [
      "How many t-shirts are there? 5\n",
      "How many mugs are there? 5\n",
      "How many hats are there? 5\n",
      "How many books are there? 5\n",
      "How many keychains are there? 5\n",
      "The inventory contains: \n",
      "t-shirts: 5\n",
      "mugs: 5\n",
      "hats: 5\n",
      "books: 5\n",
      "keychains: 5\n",
      "Enter a product the customer wants to order: mug\n",
      "mug was added to the order.\n",
      "Do you want to continue ordering? [Yes/No] sff\n",
      "Invalid. Please, write 'yes' if you would like to continue ordering, or 'no' if want to finish.\n",
      "Do you want to continue ordering? [Yes/No]yes\n",
      "Enter a product the customer wants to order: fghgfst\n",
      "fghgfst was added to the order.\n",
      "Do you want to continue ordering? [Yes/No] no\n",
      "Order Statistics: \n",
      "    Total Products Ordered:2\n",
      "    Percentage of Products Ordered:  8.00%\n",
      "The updated inventory contains:\n",
      "t-shirts: 5\n",
      "mugs: 4\n",
      "hats: 5\n",
      "books: 5\n",
      "keychains: 5\n"
     ]
    }
   ],
   "source": [
    "inventory = initialize_inventory([\"t-shirt\", \"mug\", \"hat\", \"book\", \"keychain\"])\n",
    "\n",
    "customer_orders = get_customer_orders()\n",
    "\n",
    "updated_inventory = update_inventory(customer_orders, inventory)\n",
    "\n",
    "my_stats = calculate_order_statistics(customer_orders, inventory)\n",
    "\n",
    "print_order_statistics(my_stats)\n",
    "\n",
    "print_updated_inventory(updated_inventory)\n"
   ]
  },
  {
   "cell_type": "code",
   "execution_count": null,
   "id": "67e00f2c",
   "metadata": {},
   "outputs": [],
   "source": []
  }
 ],
 "metadata": {
  "kernelspec": {
   "display_name": "Python 3 (ipykernel)",
   "language": "python",
   "name": "python3"
  },
  "language_info": {
   "codemirror_mode": {
    "name": "ipython",
    "version": 3
   },
   "file_extension": ".py",
   "mimetype": "text/x-python",
   "name": "python",
   "nbconvert_exporter": "python",
   "pygments_lexer": "ipython3",
   "version": "3.11.5"
  }
 },
 "nbformat": 4,
 "nbformat_minor": 5
}
